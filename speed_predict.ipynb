{
  "nbformat": 4,
  "nbformat_minor": 0,
  "metadata": {
    "colab": {
      "name": "speed_predict.ipynb",
      "provenance": [],
      "include_colab_link": true
    },
    "kernelspec": {
      "name": "python3",
      "display_name": "Python 3"
    }
  },
  "cells": [
    {
      "cell_type": "markdown",
      "metadata": {
        "id": "view-in-github",
        "colab_type": "text"
      },
      "source": [
        "<a href=\"https://colab.research.google.com/github/viraatdas/Purdue_CompVis_Workshop/blob/3_preprocessor(1)/speed_predict.ipynb\" target=\"_parent\"><img src=\"https://colab.research.google.com/assets/colab-badge.svg\" alt=\"Open In Colab\"/></a>"
      ]
    },
    {
      "cell_type": "code",
      "metadata": {
        "id": "UR3KB9wg6hD2",
        "colab_type": "code",
        "outputId": "8b32d8b3-f7ba-4411-c962-7ebfec223e88",
        "colab": {
          "base_uri": "https://localhost:8080/",
          "height": 34
        }
      },
      "source": [
        "print(\"wus good\")"
      ],
      "execution_count": 0,
      "outputs": [
        {
          "output_type": "stream",
          "text": [
            "wus good\n"
          ],
          "name": "stdout"
        }
      ]
    },
    {
      "cell_type": "markdown",
      "metadata": {
        "id": "KLBdc5Nk7Q5h",
        "colab_type": "text"
      },
      "source": [
        "Import video files"
      ]
    },
    {
      "cell_type": "code",
      "metadata": {
        "id": "sp6CXi_M7X_o",
        "colab_type": "code",
        "outputId": "ce91d232-936d-4bbc-e723-02220aff7a33",
        "colab": {
          "base_uri": "https://localhost:8080/",
          "height": 54
        }
      },
      "source": [
        "from google.colab import drive\n",
        "drive.mount('/content/drive/')"
      ],
      "execution_count": 0,
      "outputs": [
        {
          "output_type": "stream",
          "text": [
            "Drive already mounted at /content/drive/; to attempt to forcibly remount, call drive.mount(\"/content/drive/\", force_remount=True).\n"
          ],
          "name": "stdout"
        }
      ]
    },
    {
      "cell_type": "markdown",
      "metadata": {
        "id": "J0g_bHtb9SkX",
        "colab_type": "text"
      },
      "source": [
        "Import libraries"
      ]
    },
    {
      "cell_type": "code",
      "metadata": {
        "id": "oEZ1WRGL9VBz",
        "colab_type": "code",
        "colab": {}
      },
      "source": [
        "import os\n",
        "import csv\n",
        "import cv2\n",
        "import numpy as np\n",
        "import pandas as pd\n",
        "import matplotlib.pyplot as plt"
      ],
      "execution_count": 0,
      "outputs": []
    },
    {
      "cell_type": "markdown",
      "metadata": {
        "id": "oUm6cym4-cKH",
        "colab_type": "text"
      },
      "source": [
        "Organie file paths"
      ]
    },
    {
      "cell_type": "code",
      "metadata": {
        "id": "X4GeA4GH-ery",
        "colab_type": "code",
        "colab": {}
      },
      "source": [
        "train_video = \"./drive/My Drive/speed_predict/train.mp4\"\n",
        "labels = \"./drive/My Drive/speed_predict/train.txt\"\n",
        "output = \"./drive/My Drive/speed_predict/data_preprocessed\"\n",
        "\n",
        "if not os.path.exists(output):\n",
        "  os.mkdir(output)\n",
        "  print(f\"Directory {output} created\")"
      ],
      "execution_count": 0,
      "outputs": []
    },
    {
      "cell_type": "markdown",
      "metadata": {
        "id": "0d1f5XQaAycS",
        "colab_type": "text"
      },
      "source": [
        "Preprocessor class"
      ]
    },
    {
      "cell_type": "code",
      "metadata": {
        "id": "0F2EEIoiCOKZ",
        "colab_type": "code",
        "colab": {}
      },
      "source": [
        "# Input for the Optical Flow Farneback Method\n",
        "flow_mat = None\n",
        "image_scale = 0.5\n",
        "nb_images = 1\n",
        "win_size = 15\n",
        "nb_iterations = 2\n",
        "deg_expansion = 5\n",
        "STD = 1.3"
      ],
      "execution_count": 0,
      "outputs": []
    },
    {
      "cell_type": "code",
      "metadata": {
        "id": "7C3RsQ6VCpLR",
        "colab_type": "code",
        "colab": {}
      },
      "source": [
        "class PreProcessor:\n",
        "  def __str__(self):\n",
        "    # Indicate class description\n",
        "    return \"Pre-processor class\"\n",
        "  \n",
        "  def grayscale(self, frame):\n",
        "    # Converts frame to gray scale\n",
        "    return cv2.cvtColor(frame, cv2.COLOR_RGB2GRAY)\n",
        "  \n",
        "  def plot_training_speed(self, data):\n",
        "    # plot labels\n",
        "    data = np.loadtxt(data)\n",
        "    plt.plot(data)\n",
        "    plt.show()\n"
      ],
      "execution_count": 0,
      "outputs": []
    }
  ]
}