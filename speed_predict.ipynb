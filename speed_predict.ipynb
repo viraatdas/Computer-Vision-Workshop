{
  "nbformat": 4,
  "nbformat_minor": 0,
  "metadata": {
    "colab": {
      "name": "speed_predict.ipynb",
      "provenance": [],
      "include_colab_link": true
    },
    "kernelspec": {
      "name": "python3",
      "display_name": "Python 3"
    }
  },
  "cells": [
    {
      "cell_type": "markdown",
      "metadata": {
        "id": "view-in-github",
        "colab_type": "text"
      },
      "source": [
        "<a href=\"https://colab.research.google.com/github/viraatdas/Purdue_CompVis_Workshop/blob/12_end_predict/speed_predict.ipynb\" target=\"_parent\"><img src=\"https://colab.research.google.com/assets/colab-badge.svg\" alt=\"Open In Colab\"/></a>"
      ]
    },
    {
      "cell_type": "code",
      "metadata": {
        "id": "UR3KB9wg6hD2",
        "colab_type": "code",
        "outputId": "b7d38b35-081f-4f67-809e-0d9ad0180dff",
        "colab": {
          "base_uri": "https://localhost:8080/",
          "height": 34
        }
      },
      "source": [
        "print(\"wus good\")"
      ],
      "execution_count": 11,
      "outputs": [
        {
          "output_type": "stream",
          "text": [
            "wus good\n"
          ],
          "name": "stdout"
        }
      ]
    },
    {
      "cell_type": "markdown",
      "metadata": {
        "id": "KLBdc5Nk7Q5h",
        "colab_type": "text"
      },
      "source": [
        "Import video files"
      ]
    },
    {
      "cell_type": "code",
      "metadata": {
        "id": "sp6CXi_M7X_o",
        "colab_type": "code",
        "outputId": "46601a93-67b1-4cd8-d353-806f6dd5da89",
        "colab": {
          "base_uri": "https://localhost:8080/",
          "height": 54
        }
      },
      "source": [
        "from google.colab import drive\n",
        "drive.mount('/content/drive/')"
      ],
      "execution_count": 38,
      "outputs": [
        {
          "output_type": "stream",
          "text": [
            "Drive already mounted at /content/drive/; to attempt to forcibly remount, call drive.mount(\"/content/drive/\", force_remount=True).\n"
          ],
          "name": "stdout"
        }
      ]
    },
    {
      "cell_type": "markdown",
      "metadata": {
        "id": "J0g_bHtb9SkX",
        "colab_type": "text"
      },
      "source": [
        "Import libraries"
      ]
    },
    {
      "cell_type": "code",
      "metadata": {
        "id": "oEZ1WRGL9VBz",
        "colab_type": "code",
        "colab": {}
      },
      "source": [
        "import os\n",
        "import csv\n",
        "import cv2\n",
        "import numpy as np \n",
        "import pandas as pd \n",
        "import matplotlib.pyplot as plt\n",
        "from google.colab.patches import cv2_imshow"
      ],
      "execution_count": 0,
      "outputs": []
    },
    {
      "cell_type": "markdown",
      "metadata": {
        "id": "UHAYyhZ0I1x8",
        "colab_type": "text"
      },
      "source": [
        "Organize file paths"
      ]
    },
    {
      "cell_type": "code",
      "metadata": {
        "id": "fvpxqGIeI4K4",
        "colab_type": "code",
        "colab": {}
      },
      "source": [
        "train_video = \"./drive/My Drive/speed_predict/train.mp4\"\n",
        "labels = \"./drive/My Drive/speed_predict/train.txt\"\n",
        "OUTPUT_PATH = \"./drive/My Drive/speed_predict/data_preprocessed/\"\n",
        "FRAME_RATE = 20\n",
        "\n",
        "if not os.path.exists(OUTPUT_PATH):\n",
        "  os.mkdir(OUTPUT_PATH)\n",
        "  print(f\"Directory {OUTPUT_PATH} created\")"
      ],
      "execution_count": 0,
      "outputs": []
    },
    {
      "cell_type": "markdown",
      "metadata": {
        "id": "T3m-C0w3I4X2",
        "colab_type": "text"
      },
      "source": [
        "PreProcessor Class"
      ]
    },
    {
      "cell_type": "code",
      "metadata": {
        "id": "FSd_lkW4I8K5",
        "colab_type": "code",
        "colab": {}
      },
      "source": [
        "class PreProcessor():\n",
        "  def __str__(self):\n",
        "    # indicate class description\n",
        "    return \"Pre-processor class\"\n",
        "  def grayscale(self, frame):\n",
        "    # converts frame to gray scale\n",
        "    return cv2.cvtColor(frame, cv2.COLOR_RGB2GRAY)\n",
        "  \n",
        "  def plot_training_speed(self, data):\n",
        "    # plot labels\n",
        "    data = np.loadtxt(data)\n",
        "    plt.plot(data)\n",
        "    plt.show()\n",
        "  def generate_images(self, file_path, label_path, gray=False):\n",
        "    # Takes the video file and generates images for each\n",
        "    # of it's frames. The time for each frame and the image path\n",
        "    # for the corresponding frame is stored in a csv\n",
        "\n",
        "    # Load the speeds\n",
        "    speeds = np.loadtxt(label_path)\n",
        "\n",
        "    # Video file\n",
        "    video_capture = cv2.VideoCapture(file_path)\n",
        "\n",
        "    # Check if number of labels is the same as number of frame\n",
        "    if len(speeds) == video_capture.get(cv2.CAP_PROP_FRAME_COUNT):\n",
        "      print(\"Labels are equal to number of frames\")\n",
        "    else:\n",
        "      print(\"Check if labels are equal to number of frames\")\n",
        "      return\n",
        "    \n",
        "    with open(\"processed.csv\", \"w+\") as file:\n",
        "      writer = csv.writer(file)\n",
        "      time_between_frames = 1 / FRAME_RATE\n",
        "      time_elapsed = 0\n",
        "\n",
        "      for idx, i in enumerate(speeds):\n",
        "        ret, frame = video_capture.read()\n",
        "        time_elapsed += time_between_frames\n",
        "        if gray == True:\n",
        "          frame = self.grayscale(frame)\n",
        "        if ret:\n",
        "          # cv2_imshow(frame)\n",
        "          image_path = OUTPUT_PATH + str(time_elapsed) + '.jpg'\n",
        "          cv2.imwrite(image_path, frame)\n",
        "          writer.writerow([image_path, time_elapsed, speeds[idx]])\n",
        "        if cv2.waitKey(1) & 0xFF == ord('q'):\n",
        "          break\n",
        "      video_capture.release()\n",
        "      cv2.destroyAllWindows()\n",
        "\n",
        "  def shuffle_frame_pairs(self, dataframe, val_split=1):\n",
        "    \"\"\"Method that shuffles pairs of frames from the video.\n",
        "    Takes a dataframe as an argument, and returns a training\n",
        "    and validation dataframe. A custom method like this rather\n",
        "    than a traditional test, train split is used, as we need\n",
        "    pair of frames, later on to do optical flow\"\"\"\n",
        "    training_data = pd.DataFrame()\n",
        "    validation_data = pd.DataFrame()\n",
        "    df_len = dataframe.shape[0]\n",
        "    for i in range(df_len - 1):\n",
        "        idx1 = np.random.randint(df_len - 1)\n",
        "        idx2 = idx1 + 1\n",
        "        row1 = dataframe.iloc[[idx1]].reset_index()\n",
        "        row2 = dataframe.iloc[[idx2]].reset_index()\n",
        "        randInt = np.random.randint(9)\n",
        "        if 0 <= randInt <= val_split:\n",
        "            valid_frames = [validation_data, row1, row2]\n",
        "            validation_data = pd.concat(\n",
        "                valid_frames, axis=0, join='outer', ignore_index=False)\n",
        "        if randInt >= val_split + 1:\n",
        "            train_frames = [training_data, row1, row2]\n",
        "            training_data = pd.concat(\n",
        "                train_frames, axis=0, join='outer', ignore_index=False)\n",
        "\n",
        "    return training_data, validation_data\n",
        "\n",
        "  def adjust_brightness(self, image, factor, slice):\n",
        "    # Convert to hue, saturation, value model\n",
        "    rgb = cv2.cvtColor(image, cv2.COLOR_BGR2RGB)\n",
        "    hsv = cv2.cvtColor(rgb, cv2.COLOR_RGB2HSV)\n",
        "    hsv[:, :, slice] = hsv[:, :, slice] * factor\n",
        "    rgb = cv2.cvtColor(hsv, cv2.COLOR_HSV2RGB)\n",
        "    return rgb\n",
        "\n",
        "  def crop_sky_and_dashboard(self, frame):\n",
        "      frame = frame[100:440, :-90]\n",
        "      image = cv2.resize(frame, (220, 66), interpolation=cv2.INTER_AREA)\n",
        "      return image\n",
        "\n",
        "  def optical_flow(self, im_c, im_n):\n",
        "      gray_c = self.grayscale(im_c)\n",
        "      gray_n = self.grayscale(im_n)\n",
        "      hsv = np.zeros_like(im_c)\n",
        "      hsv[:, :, 1] = cv2.cvtColor(im_n, cv2.COLOR_RGB2HSV)[:, :, 1]\n",
        "\n",
        "\n",
        "      flow = cv2.calcOpticalFlowFarneback(gray_c, gray_n,\n",
        "                                          flow_mat,\n",
        "                                          image_scale,\n",
        "                                          nb_images,\n",
        "                                          win_size,\n",
        "                                          nb_iterations,\n",
        "                                          deg_expansion,\n",
        "                                          STD,\n",
        "                                          0)\n",
        "\n",
        "      mag, ang = cv2.cartToPolar(flow[..., 0], flow[..., 1])\n",
        "      hsv[:, :, 0] = ang * (180 / np.pi / 2)\n",
        "      hsv[:, :, 2] = cv2.normalize(mag, None, 0, 255, cv2.NORM_MINMAX)\n",
        "      hsv = np.asarray(hsv, dtype=np.float32)\n",
        "      rgb_flow = cv2.cvtColor(hsv, cv2.COLOR_HSV2RGB)\n",
        "      #cv2.imwrite(\"./flow.jpg\", rgb_flow)\n",
        "\n",
        "      return rgb_flow\n",
        "\n",
        "\n",
        "  def preprocess_image_valid_from_path(self, image_path, speed):\n",
        "      img = cv2.imread(image_path)\n",
        "      img = cv2.cvtColor(img, cv2.COLOR_BGR2RGB)\n",
        "      img = self.adjust_brightness(img, 0.2, 2)    \n",
        "      img = self.crop_sky_and_dashboard(img)\n",
        "      return img, speed\n",
        "\n",
        "\n",
        "  def preprocess_image_from_path(self, image_path, speed):\n",
        "      img = cv2.imread(image_path)\n",
        "      img = cv2.cvtColor(img, cv2.COLOR_BGR2RGB)\n",
        "      img = self.adjust_brightness(img, 0.2, 2)    \n",
        "      img = self.crop_sky_and_dashboard(img)\n",
        "      return img, speed"
      ],
      "execution_count": 0,
      "outputs": []
    },
    {
      "cell_type": "code",
      "metadata": {
        "id": "Vxos3XfSI95O",
        "colab_type": "code",
        "colab": {
          "base_uri": "https://localhost:8080/",
          "height": 602
        },
        "outputId": "b61482e8-2f07-4fdd-9ef9-3a0b8d8bc1fa"
      },
      "source": [
        "pre = PreProcessor()\n",
        "pre.plot_training_speed(labels)\n",
        "pre.generate_images(train_video, labels)"
      ],
      "execution_count": 44,
      "outputs": [
        {
          "output_type": "display_data",
          "data": {
            "image/png": "[encoded data removed]",
            "text/plain": [
              "<Figure size 432x288 with 1 Axes>"
            ]
          },
          "metadata": {
            "tags": []
          }
        },
        {
          "output_type": "stream",
          "text": [
            "Labels are equal to number of frames\n"
          ],
          "name": "stdout"
        },
        {
          "output_type": "error",
          "ename": "KeyboardInterrupt",
          "evalue": "ignored",
          "traceback": [
            "\u001b[0;31m---------------------------------------------------------------------------\u001b[0m",
            "\u001b[0;31mKeyboardInterrupt\u001b[0m                         Traceback (most recent call last)",
            "\u001b[0;32m<ipython-input-44-43b00ec0bb9a>\u001b[0m in \u001b[0;36m<module>\u001b[0;34m()\u001b[0m\n\u001b[1;32m      1\u001b[0m \u001b[0mpre\u001b[0m \u001b[0;34m=\u001b[0m \u001b[0mPreProcessor\u001b[0m\u001b[0;34m(\u001b[0m\u001b[0;34m)\u001b[0m\u001b[0;34m\u001b[0m\u001b[0;34m\u001b[0m\u001b[0m\n\u001b[1;32m      2\u001b[0m \u001b[0mpre\u001b[0m\u001b[0;34m.\u001b[0m\u001b[0mplot_training_speed\u001b[0m\u001b[0;34m(\u001b[0m\u001b[0mlabels\u001b[0m\u001b[0;34m)\u001b[0m\u001b[0;34m\u001b[0m\u001b[0;34m\u001b[0m\u001b[0m\n\u001b[0;32m----> 3\u001b[0;31m \u001b[0mpre\u001b[0m\u001b[0;34m.\u001b[0m\u001b[0mgenerate_images\u001b[0m\u001b[0;34m(\u001b[0m\u001b[0mtrain_video\u001b[0m\u001b[0;34m,\u001b[0m \u001b[0mlabels\u001b[0m\u001b[0;34m)\u001b[0m\u001b[0;34m\u001b[0m\u001b[0;34m\u001b[0m\u001b[0m\n\u001b[0m",
            "\u001b[0;32m<ipython-input-15-d5b5dbd63192>\u001b[0m in \u001b[0;36mgenerate_images\u001b[0;34m(self, file_path, label_path, gray)\u001b[0m\n\u001b[1;32m     43\u001b[0m           \u001b[0;31m# cv2_imshow(frame)\u001b[0m\u001b[0;34m\u001b[0m\u001b[0;34m\u001b[0m\u001b[0;34m\u001b[0m\u001b[0m\n\u001b[1;32m     44\u001b[0m           \u001b[0mimage_path\u001b[0m \u001b[0;34m=\u001b[0m \u001b[0mOUTPUT_PATH\u001b[0m \u001b[0;34m+\u001b[0m \u001b[0mstr\u001b[0m\u001b[0;34m(\u001b[0m\u001b[0mtime_elapsed\u001b[0m\u001b[0;34m)\u001b[0m \u001b[0;34m+\u001b[0m \u001b[0;34m'.jpg'\u001b[0m\u001b[0;34m\u001b[0m\u001b[0;34m\u001b[0m\u001b[0m\n\u001b[0;32m---> 45\u001b[0;31m           \u001b[0mcv2\u001b[0m\u001b[0;34m.\u001b[0m\u001b[0mimwrite\u001b[0m\u001b[0;34m(\u001b[0m\u001b[0mimage_path\u001b[0m\u001b[0;34m,\u001b[0m \u001b[0mframe\u001b[0m\u001b[0;34m)\u001b[0m\u001b[0;34m\u001b[0m\u001b[0;34m\u001b[0m\u001b[0m\n\u001b[0m\u001b[1;32m     46\u001b[0m           \u001b[0mwriter\u001b[0m\u001b[0;34m.\u001b[0m\u001b[0mwriterow\u001b[0m\u001b[0;34m(\u001b[0m\u001b[0;34m[\u001b[0m\u001b[0mimage_path\u001b[0m\u001b[0;34m,\u001b[0m \u001b[0mtime_elapsed\u001b[0m\u001b[0;34m,\u001b[0m \u001b[0mspeeds\u001b[0m\u001b[0;34m[\u001b[0m\u001b[0midx\u001b[0m\u001b[0;34m]\u001b[0m\u001b[0;34m]\u001b[0m\u001b[0;34m)\u001b[0m\u001b[0;34m\u001b[0m\u001b[0;34m\u001b[0m\u001b[0m\n\u001b[1;32m     47\u001b[0m         \u001b[0;32mif\u001b[0m \u001b[0mcv2\u001b[0m\u001b[0;34m.\u001b[0m\u001b[0mwaitKey\u001b[0m\u001b[0;34m(\u001b[0m\u001b[0;36m1\u001b[0m\u001b[0;34m)\u001b[0m \u001b[0;34m&\u001b[0m \u001b[0;36m0xFF\u001b[0m \u001b[0;34m==\u001b[0m \u001b[0mord\u001b[0m\u001b[0;34m(\u001b[0m\u001b[0;34m'q'\u001b[0m\u001b[0;34m)\u001b[0m\u001b[0;34m:\u001b[0m\u001b[0;34m\u001b[0m\u001b[0;34m\u001b[0m\u001b[0m\n",
            "\u001b[0;31mKeyboardInterrupt\u001b[0m: "
          ]
        }
      ]
    },
    {
      "cell_type": "code",
      "metadata": {
        "id": "6K_O3swh16k_",
        "colab_type": "code",
        "colab": {}
      },
      "source": [
        "from keras.callbacks import EarlyStopping, ModelCheckpoint\n",
        "from sklearn.utils import shuffle\n",
        "import numpy as np\n",
        "import pandas as pd"
      ],
      "execution_count": 0,
      "outputs": []
    },
    {
      "cell_type": "code",
      "metadata": {
        "id": "Gxq2eEgC3HWA",
        "colab_type": "code",
        "colab": {}
      },
      "source": [
        "# Model\n",
        "\n",
        "from tensorflow.keras.models import Model, Sequential\n",
        "from tensorflow.keras.layers import Input, Dense, Activation, Conv2D, ELU, TimeDistributed, Flatten, Dropout, Lambda\n",
        "from tensorflow.keras.optimizers import Nadam\n",
        "from tensorflow.keras.layers import MaxPooling2D\n",
        "\n",
        "IMG_SHAPE = (66, 220, 3)\n",
        "\n",
        "\n",
        "def speed_model():\n",
        "    inputs = Input(shape=IMG_SHAPE)\n",
        "    inputs1 = Lambda(lambda x: x/ 127.5 - 1, input_shape = IMG_SHAPE)(inputs)\n",
        "\n",
        "    conv1 = Conv2D(24, (5, 5), padding=\"valid\")(inputs1)\n",
        "    act1 = Activation(ELU())(conv1)\n",
        "    conv2 = Conv2D(36, (5, 5), strides=(2, 2), padding=\"valid\")(act1)\n",
        "    act2 = Activation(ELU())(conv2)\n",
        "    drop1 = Dropout(0.5)(act2)\n",
        "    conv3 = Conv2D(48, (5, 5), strides=(2, 2), padding=\"valid\")(drop1)\n",
        "    act3 = Activation(ELU())(conv3)\n",
        "    conv4 = Conv2D(64, (3, 3), strides=(1, 1), padding=\"valid\")(act3)\n",
        "    act4 = Activation(ELU())(conv4)\n",
        "    conv5 = Conv2D(64, (3, 3), padding=\"valid\")(act4)\n",
        "\n",
        "\n",
        "    flat1 = Flatten()(conv5)\n",
        "    act4 = Activation(ELU())(flat1)\n",
        "    dense1 = Dense(100)(act4)\n",
        "    act5 = Activation(ELU())(dense1)\n",
        "    dense2 = Dense(50)(act5)\n",
        "    act6 = Activation(ELU())(dense2)\n",
        "    dense4 = Dense(10)(act6)\n",
        "    act8 = Activation(ELU())(dense4)\n",
        "    output = Dense(1)(act8)\n",
        "\n",
        "    model = Model(inputs, output)\n",
        "    adam = Nadam()\n",
        "    model.compile(optimizer=adam, loss='mse')\n",
        "\n",
        "    print(model.summary())\n",
        "    return model"
      ],
      "execution_count": 0,
      "outputs": []
    },
    {
      "cell_type": "code",
      "metadata": {
        "id": "lUOYnh8p3NSV",
        "colab_type": "code",
        "colab": {}
      },
      "source": [
        "# training functions\n",
        "def generate_training_data(data, batch_size = 16):\n",
        "    image_batch = np.zeros((batch_size, 66, 220, 3)) # nvidia input params\n",
        "    label_batch = np.zeros((batch_size))\n",
        "    while True:\n",
        "        for i in range(batch_size):\n",
        "            idx = np.random.randint(1, len(data) - 1)\n",
        "            \n",
        "            row_now = data.iloc[[idx]].reset_index()\n",
        "            row_prev = data.iloc[[idx - 1]].reset_index()\n",
        "            row_next = data.iloc[[idx + 1]].reset_index()\n",
        "            \n",
        "            time_now = row_now[1].values[0]\n",
        "            time_prev = row_prev[1].values[0]\n",
        "            time_next = row_next[1].values[0]\n",
        "            \n",
        "            if time_now - time_prev > 0 and 0.0000001 < time_now - time_prev < 0.58: # 0.578111 is highest diff i have seen\n",
        "                row1 = row_prev\n",
        "                row2 = row_now\n",
        "                \n",
        "            elif time_next - time_now > 0 and 0.0000001 < time_next - time_now < 0.58:\n",
        "                row1 = row_now\n",
        "                row2 = row_next\n",
        "                \n",
        "            x1, y1 = pre.preprocess_image_from_path(row1[0].values[0],row1[2].values[0]) \n",
        "            x2, y2 = pre.preprocess_image_from_path(row2[0].values[0],row2[2].values[0])\n",
        "           \n",
        "            img_diff = pre.optical_flow(x1, x2)\n",
        "            y = np.mean([y1, y2])\n",
        "            \n",
        "            image_batch[i] = img_diff\n",
        "            label_batch[i] = y\n",
        "            \n",
        "        yield shuffle(image_batch, label_batch)\n",
        "\n",
        "\n",
        "def generate_validation_data(data):\n",
        "    while True:\n",
        "        for idx in range(1, len(data) - 1): \n",
        "            row_now = data.iloc[[idx]].reset_index()\n",
        "            row_prev = data.iloc[[idx - 1]].reset_index()\n",
        "            row_next = data.iloc[[idx + 1]].reset_index()\n",
        "            \n",
        "            time_now = row_now[1].values[0]\n",
        "            time_prev = row_prev[1].values[0]\n",
        "            time_next = row_next[1].values[0]\n",
        "            \n",
        "            if time_now - time_prev > 0 and 0.0000001 < time_now - time_prev < 0.58:\n",
        "                row1 = row_prev\n",
        "                row2 = row_now\n",
        "                \n",
        "            elif time_next - time_now > 0 and 0.000001 < time_next - time_now < 0.58:\n",
        "                row1 = row_now\n",
        "                row2 = row_next\n",
        "\n",
        "            x1, y1 = pre.preprocess_image_valid_from_path(row1[0].values[0], row1[2].values[0])\n",
        "            x2, y2 = pre.preprocess_image_valid_from_path(row2[0].values[0], row2[2].values[0])\n",
        "            \n",
        "            img_diff = pre.optical_flow(x1, x2)\n",
        "            img_diff = img_diff.reshape(1, img_diff.shape[0], img_diff.shape[1], img_diff.shape[2])\n",
        "            y = np.mean([y1, y2])\n",
        "            \n",
        "            speed = np.array([[y]])\n",
        "            yield img_diff, speed"
      ],
      "execution_count": 0,
      "outputs": []
    },
    {
      "cell_type": "code",
      "metadata": {
        "id": "m4xryTSzC9A4",
        "colab_type": "code",
        "colab": {}
      },
      "source": [
        "flow_mat = None\n",
        "image_scale = 0.5\n",
        "nb_images = 1\n",
        "win_size = 15\n",
        "nb_iterations = 2\n",
        "deg_expansion = 5\n",
        "STD = 1.3"
      ],
      "execution_count": 0,
      "outputs": []
    },
    {
      "cell_type": "code",
      "metadata": {
        "id": "IoOFHhe-4h8T",
        "colab_type": "code",
        "outputId": "da9f5c4c-37cb-4de6-9720-14e756da74c8",
        "colab": {
          "base_uri": "https://localhost:8080/",
          "height": 1000
        }
      },
      "source": [
        "# training the model\n",
        "\n",
        "filepath = 'model-weights.h5'\n",
        "df = pd.read_csv(\"./processed.csv\", header = None)\n",
        "pre = PreProcessor()\n",
        "train, test = pre.shuffle_frame_pairs(df)\n",
        "size_test = len(test.index)\n",
        "size_train = len(train.index)\n",
        "#print(size_test)\n",
        "#print(size_train)\n",
        "dl_model = speed_model()\n",
        "earlyStopping = EarlyStopping(monitor='val_loss', \n",
        "                          patience=2, \n",
        "                          verbose=1, \n",
        "                          min_delta = 0.23,\n",
        "                          mode='min',)\n",
        "modelCheckpoint = ModelCheckpoint(filepath, \n",
        "                                  monitor = 'val_loss', \n",
        "                                  save_best_only = True, \n",
        "                                  mode = 'min', \n",
        "                                  verbose = 1,\n",
        "                                  save_weights_only = True)\n",
        "callbacks_list = [modelCheckpoint, earlyStopping]\n",
        "train_generator = generate_training_data(train)\n",
        "test_generator = generate_validation_data(test)\n",
        "history = dl_model.fit_generator(\n",
        "        train_generator, \n",
        "        steps_per_epoch = 555,\n",
        "        epochs = 25,\n",
        "        callbacks = callbacks_list,\n",
        "        verbose = 1,\n",
        "        validation_data = test_generator,\n",
        "        validation_steps = size_test)\n",
        "\n",
        "print(history)"
      ],
      "execution_count": 29,
      "outputs": [
        {
          "output_type": "stream",
          "text": [
            "Model: \"model_1\"\n",
            "_________________________________________________________________\n",
            "Layer (type)                 Output Shape              Param #   \n",
            "=================================================================\n",
            "input_2 (InputLayer)         [(None, 66, 220, 3)]      0         \n",
            "_________________________________________________________________\n",
            "lambda_1 (Lambda)            (None, 66, 220, 3)        0         \n",
            "_________________________________________________________________\n",
            "conv2d_5 (Conv2D)            (None, 62, 216, 24)       1824      \n",
            "_________________________________________________________________\n",
            "activation_8 (Activation)    (None, 62, 216, 24)       0         \n",
            "_________________________________________________________________\n",
            "conv2d_6 (Conv2D)            (None, 29, 106, 36)       21636     \n",
            "_________________________________________________________________\n",
            "activation_9 (Activation)    (None, 29, 106, 36)       0         \n",
            "_________________________________________________________________\n",
            "dropout_1 (Dropout)          (None, 29, 106, 36)       0         \n",
            "_________________________________________________________________\n",
            "conv2d_7 (Conv2D)            (None, 13, 51, 48)        43248     \n",
            "_________________________________________________________________\n",
            "activation_10 (Activation)   (None, 13, 51, 48)        0         \n",
            "_________________________________________________________________\n",
            "conv2d_8 (Conv2D)            (None, 11, 49, 64)        27712     \n",
            "_________________________________________________________________\n",
            "activation_11 (Activation)   (None, 11, 49, 64)        0         \n",
            "_________________________________________________________________\n",
            "conv2d_9 (Conv2D)            (None, 9, 47, 64)         36928     \n",
            "_________________________________________________________________\n",
            "flatten_1 (Flatten)          (None, 27072)             0         \n",
            "_________________________________________________________________\n",
            "activation_12 (Activation)   (None, 27072)             0         \n",
            "_________________________________________________________________\n",
            "dense_4 (Dense)              (None, 100)               2707300   \n",
            "_________________________________________________________________\n",
            "activation_13 (Activation)   (None, 100)               0         \n",
            "_________________________________________________________________\n",
            "dense_5 (Dense)              (None, 50)                5050      \n",
            "_________________________________________________________________\n",
            "activation_14 (Activation)   (None, 50)                0         \n",
            "_________________________________________________________________\n",
            "dense_6 (Dense)              (None, 10)                510       \n",
            "_________________________________________________________________\n",
            "activation_15 (Activation)   (None, 10)                0         \n",
            "_________________________________________________________________\n",
            "dense_7 (Dense)              (None, 1)                 11        \n",
            "=================================================================\n",
            "Total params: 2,844,219\n",
            "Trainable params: 2,844,219\n",
            "Non-trainable params: 0\n",
            "_________________________________________________________________\n",
            "None\n",
            "Epoch 1/25\n",
            "214/555 [==========>...................] - ETA: 8:19 - loss: 9.0426"
          ],
          "name": "stdout"
        },
        {
          "output_type": "error",
          "ename": "KeyboardInterrupt",
          "evalue": "ignored",
          "traceback": [
            "\u001b[0;31m---------------------------------------------------------------------------\u001b[0m",
            "\u001b[0;31mKeyboardInterrupt\u001b[0m                         Traceback (most recent call last)",
            "\u001b[0;32m<ipython-input-29-d310f452393a>\u001b[0m in \u001b[0;36m<module>\u001b[0;34m()\u001b[0m\n\u001b[1;32m     30\u001b[0m         \u001b[0mverbose\u001b[0m \u001b[0;34m=\u001b[0m \u001b[0;36m1\u001b[0m\u001b[0;34m,\u001b[0m\u001b[0;34m\u001b[0m\u001b[0;34m\u001b[0m\u001b[0m\n\u001b[1;32m     31\u001b[0m         \u001b[0mvalidation_data\u001b[0m \u001b[0;34m=\u001b[0m \u001b[0mtest_generator\u001b[0m\u001b[0;34m,\u001b[0m\u001b[0;34m\u001b[0m\u001b[0;34m\u001b[0m\u001b[0m\n\u001b[0;32m---> 32\u001b[0;31m         validation_steps = size_test)\n\u001b[0m\u001b[1;32m     33\u001b[0m \u001b[0;34m\u001b[0m\u001b[0m\n\u001b[1;32m     34\u001b[0m \u001b[0mprint\u001b[0m\u001b[0;34m(\u001b[0m\u001b[0mhistory\u001b[0m\u001b[0;34m)\u001b[0m\u001b[0;34m\u001b[0m\u001b[0;34m\u001b[0m\u001b[0m\n",
            "\u001b[0;32m/usr/local/lib/python3.6/dist-packages/tensorflow_core/python/keras/engine/training.py\u001b[0m in \u001b[0;36mfit_generator\u001b[0;34m(self, generator, steps_per_epoch, epochs, verbose, callbacks, validation_data, validation_steps, validation_freq, class_weight, max_queue_size, workers, use_multiprocessing, shuffle, initial_epoch)\u001b[0m\n\u001b[1;32m   1294\u001b[0m         \u001b[0mshuffle\u001b[0m\u001b[0;34m=\u001b[0m\u001b[0mshuffle\u001b[0m\u001b[0;34m,\u001b[0m\u001b[0;34m\u001b[0m\u001b[0;34m\u001b[0m\u001b[0m\n\u001b[1;32m   1295\u001b[0m         \u001b[0minitial_epoch\u001b[0m\u001b[0;34m=\u001b[0m\u001b[0minitial_epoch\u001b[0m\u001b[0;34m,\u001b[0m\u001b[0;34m\u001b[0m\u001b[0;34m\u001b[0m\u001b[0m\n\u001b[0;32m-> 1296\u001b[0;31m         steps_name='steps_per_epoch')\n\u001b[0m\u001b[1;32m   1297\u001b[0m \u001b[0;34m\u001b[0m\u001b[0m\n\u001b[1;32m   1298\u001b[0m   def evaluate_generator(self,\n",
            "\u001b[0;32m/usr/local/lib/python3.6/dist-packages/tensorflow_core/python/keras/engine/training_generator.py\u001b[0m in \u001b[0;36mmodel_iteration\u001b[0;34m(model, data, steps_per_epoch, epochs, verbose, callbacks, validation_data, validation_steps, validation_freq, class_weight, max_queue_size, workers, use_multiprocessing, shuffle, initial_epoch, mode, batch_size, steps_name, **kwargs)\u001b[0m\n\u001b[1;32m    219\u001b[0m     \u001b[0mstep\u001b[0m \u001b[0;34m=\u001b[0m \u001b[0;36m0\u001b[0m\u001b[0;34m\u001b[0m\u001b[0;34m\u001b[0m\u001b[0m\n\u001b[1;32m    220\u001b[0m     \u001b[0;32mwhile\u001b[0m \u001b[0mstep\u001b[0m \u001b[0;34m<\u001b[0m \u001b[0mtarget_steps\u001b[0m\u001b[0;34m:\u001b[0m\u001b[0;34m\u001b[0m\u001b[0;34m\u001b[0m\u001b[0m\n\u001b[0;32m--> 221\u001b[0;31m       \u001b[0mbatch_data\u001b[0m \u001b[0;34m=\u001b[0m \u001b[0m_get_next_batch\u001b[0m\u001b[0;34m(\u001b[0m\u001b[0mgenerator\u001b[0m\u001b[0;34m)\u001b[0m\u001b[0;34m\u001b[0m\u001b[0;34m\u001b[0m\u001b[0m\n\u001b[0m\u001b[1;32m    222\u001b[0m       \u001b[0;32mif\u001b[0m \u001b[0mbatch_data\u001b[0m \u001b[0;32mis\u001b[0m \u001b[0;32mNone\u001b[0m\u001b[0;34m:\u001b[0m\u001b[0;34m\u001b[0m\u001b[0;34m\u001b[0m\u001b[0m\n\u001b[1;32m    223\u001b[0m         \u001b[0;32mif\u001b[0m \u001b[0mis_dataset\u001b[0m\u001b[0;34m:\u001b[0m\u001b[0;34m\u001b[0m\u001b[0;34m\u001b[0m\u001b[0m\n",
            "\u001b[0;32m/usr/local/lib/python3.6/dist-packages/tensorflow_core/python/keras/engine/training_generator.py\u001b[0m in \u001b[0;36m_get_next_batch\u001b[0;34m(generator)\u001b[0m\n\u001b[1;32m    361\u001b[0m   \u001b[0;34m\"\"\"Retrieves the next batch of input data.\"\"\"\u001b[0m\u001b[0;34m\u001b[0m\u001b[0;34m\u001b[0m\u001b[0m\n\u001b[1;32m    362\u001b[0m   \u001b[0;32mtry\u001b[0m\u001b[0;34m:\u001b[0m\u001b[0;34m\u001b[0m\u001b[0;34m\u001b[0m\u001b[0m\n\u001b[0;32m--> 363\u001b[0;31m     \u001b[0mgenerator_output\u001b[0m \u001b[0;34m=\u001b[0m \u001b[0mnext\u001b[0m\u001b[0;34m(\u001b[0m\u001b[0mgenerator\u001b[0m\u001b[0;34m)\u001b[0m\u001b[0;34m\u001b[0m\u001b[0;34m\u001b[0m\u001b[0m\n\u001b[0m\u001b[1;32m    364\u001b[0m   \u001b[0;32mexcept\u001b[0m \u001b[0;34m(\u001b[0m\u001b[0mStopIteration\u001b[0m\u001b[0;34m,\u001b[0m \u001b[0merrors\u001b[0m\u001b[0;34m.\u001b[0m\u001b[0mOutOfRangeError\u001b[0m\u001b[0;34m)\u001b[0m\u001b[0;34m:\u001b[0m\u001b[0;34m\u001b[0m\u001b[0;34m\u001b[0m\u001b[0m\n\u001b[1;32m    365\u001b[0m     \u001b[0;32mreturn\u001b[0m \u001b[0;32mNone\u001b[0m\u001b[0;34m\u001b[0m\u001b[0;34m\u001b[0m\u001b[0m\n",
            "\u001b[0;32m/usr/local/lib/python3.6/dist-packages/tensorflow_core/python/keras/utils/data_utils.py\u001b[0m in \u001b[0;36mget\u001b[0;34m(self)\u001b[0m\n\u001b[1;32m    896\u001b[0m     \u001b[0;32mtry\u001b[0m\u001b[0;34m:\u001b[0m\u001b[0;34m\u001b[0m\u001b[0;34m\u001b[0m\u001b[0m\n\u001b[1;32m    897\u001b[0m       \u001b[0;32mwhile\u001b[0m \u001b[0mself\u001b[0m\u001b[0;34m.\u001b[0m\u001b[0mis_running\u001b[0m\u001b[0;34m(\u001b[0m\u001b[0;34m)\u001b[0m\u001b[0;34m:\u001b[0m\u001b[0;34m\u001b[0m\u001b[0;34m\u001b[0m\u001b[0m\n\u001b[0;32m--> 898\u001b[0;31m         \u001b[0minputs\u001b[0m \u001b[0;34m=\u001b[0m \u001b[0mself\u001b[0m\u001b[0;34m.\u001b[0m\u001b[0mqueue\u001b[0m\u001b[0;34m.\u001b[0m\u001b[0mget\u001b[0m\u001b[0;34m(\u001b[0m\u001b[0mblock\u001b[0m\u001b[0;34m=\u001b[0m\u001b[0;32mTrue\u001b[0m\u001b[0;34m)\u001b[0m\u001b[0;34m.\u001b[0m\u001b[0mget\u001b[0m\u001b[0;34m(\u001b[0m\u001b[0;34m)\u001b[0m\u001b[0;34m\u001b[0m\u001b[0;34m\u001b[0m\u001b[0m\n\u001b[0m\u001b[1;32m    899\u001b[0m         \u001b[0mself\u001b[0m\u001b[0;34m.\u001b[0m\u001b[0mqueue\u001b[0m\u001b[0;34m.\u001b[0m\u001b[0mtask_done\u001b[0m\u001b[0;34m(\u001b[0m\u001b[0;34m)\u001b[0m\u001b[0;34m\u001b[0m\u001b[0;34m\u001b[0m\u001b[0m\n\u001b[1;32m    900\u001b[0m         \u001b[0;32mif\u001b[0m \u001b[0minputs\u001b[0m \u001b[0;32mis\u001b[0m \u001b[0;32mnot\u001b[0m \u001b[0;32mNone\u001b[0m\u001b[0;34m:\u001b[0m\u001b[0;34m\u001b[0m\u001b[0;34m\u001b[0m\u001b[0m\n",
            "\u001b[0;32m/usr/lib/python3.6/multiprocessing/pool.py\u001b[0m in \u001b[0;36mget\u001b[0;34m(self, timeout)\u001b[0m\n\u001b[1;32m    636\u001b[0m \u001b[0;34m\u001b[0m\u001b[0m\n\u001b[1;32m    637\u001b[0m     \u001b[0;32mdef\u001b[0m \u001b[0mget\u001b[0m\u001b[0;34m(\u001b[0m\u001b[0mself\u001b[0m\u001b[0;34m,\u001b[0m \u001b[0mtimeout\u001b[0m\u001b[0;34m=\u001b[0m\u001b[0;32mNone\u001b[0m\u001b[0;34m)\u001b[0m\u001b[0;34m:\u001b[0m\u001b[0;34m\u001b[0m\u001b[0;34m\u001b[0m\u001b[0m\n\u001b[0;32m--> 638\u001b[0;31m         \u001b[0mself\u001b[0m\u001b[0;34m.\u001b[0m\u001b[0mwait\u001b[0m\u001b[0;34m(\u001b[0m\u001b[0mtimeout\u001b[0m\u001b[0;34m)\u001b[0m\u001b[0;34m\u001b[0m\u001b[0;34m\u001b[0m\u001b[0m\n\u001b[0m\u001b[1;32m    639\u001b[0m         \u001b[0;32mif\u001b[0m \u001b[0;32mnot\u001b[0m \u001b[0mself\u001b[0m\u001b[0;34m.\u001b[0m\u001b[0mready\u001b[0m\u001b[0;34m(\u001b[0m\u001b[0;34m)\u001b[0m\u001b[0;34m:\u001b[0m\u001b[0;34m\u001b[0m\u001b[0;34m\u001b[0m\u001b[0m\n\u001b[1;32m    640\u001b[0m             \u001b[0;32mraise\u001b[0m \u001b[0mTimeoutError\u001b[0m\u001b[0;34m\u001b[0m\u001b[0;34m\u001b[0m\u001b[0m\n",
            "\u001b[0;32m/usr/lib/python3.6/multiprocessing/pool.py\u001b[0m in \u001b[0;36mwait\u001b[0;34m(self, timeout)\u001b[0m\n\u001b[1;32m    633\u001b[0m \u001b[0;34m\u001b[0m\u001b[0m\n\u001b[1;32m    634\u001b[0m     \u001b[0;32mdef\u001b[0m \u001b[0mwait\u001b[0m\u001b[0;34m(\u001b[0m\u001b[0mself\u001b[0m\u001b[0;34m,\u001b[0m \u001b[0mtimeout\u001b[0m\u001b[0;34m=\u001b[0m\u001b[0;32mNone\u001b[0m\u001b[0;34m)\u001b[0m\u001b[0;34m:\u001b[0m\u001b[0;34m\u001b[0m\u001b[0;34m\u001b[0m\u001b[0m\n\u001b[0;32m--> 635\u001b[0;31m         \u001b[0mself\u001b[0m\u001b[0;34m.\u001b[0m\u001b[0m_event\u001b[0m\u001b[0;34m.\u001b[0m\u001b[0mwait\u001b[0m\u001b[0;34m(\u001b[0m\u001b[0mtimeout\u001b[0m\u001b[0;34m)\u001b[0m\u001b[0;34m\u001b[0m\u001b[0;34m\u001b[0m\u001b[0m\n\u001b[0m\u001b[1;32m    636\u001b[0m \u001b[0;34m\u001b[0m\u001b[0m\n\u001b[1;32m    637\u001b[0m     \u001b[0;32mdef\u001b[0m \u001b[0mget\u001b[0m\u001b[0;34m(\u001b[0m\u001b[0mself\u001b[0m\u001b[0;34m,\u001b[0m \u001b[0mtimeout\u001b[0m\u001b[0;34m=\u001b[0m\u001b[0;32mNone\u001b[0m\u001b[0;34m)\u001b[0m\u001b[0;34m:\u001b[0m\u001b[0;34m\u001b[0m\u001b[0;34m\u001b[0m\u001b[0m\n",
            "\u001b[0;32m/usr/lib/python3.6/threading.py\u001b[0m in \u001b[0;36mwait\u001b[0;34m(self, timeout)\u001b[0m\n\u001b[1;32m    549\u001b[0m             \u001b[0msignaled\u001b[0m \u001b[0;34m=\u001b[0m \u001b[0mself\u001b[0m\u001b[0;34m.\u001b[0m\u001b[0m_flag\u001b[0m\u001b[0;34m\u001b[0m\u001b[0;34m\u001b[0m\u001b[0m\n\u001b[1;32m    550\u001b[0m             \u001b[0;32mif\u001b[0m \u001b[0;32mnot\u001b[0m \u001b[0msignaled\u001b[0m\u001b[0;34m:\u001b[0m\u001b[0;34m\u001b[0m\u001b[0;34m\u001b[0m\u001b[0m\n\u001b[0;32m--> 551\u001b[0;31m                 \u001b[0msignaled\u001b[0m \u001b[0;34m=\u001b[0m \u001b[0mself\u001b[0m\u001b[0;34m.\u001b[0m\u001b[0m_cond\u001b[0m\u001b[0;34m.\u001b[0m\u001b[0mwait\u001b[0m\u001b[0;34m(\u001b[0m\u001b[0mtimeout\u001b[0m\u001b[0;34m)\u001b[0m\u001b[0;34m\u001b[0m\u001b[0;34m\u001b[0m\u001b[0m\n\u001b[0m\u001b[1;32m    552\u001b[0m             \u001b[0;32mreturn\u001b[0m \u001b[0msignaled\u001b[0m\u001b[0;34m\u001b[0m\u001b[0;34m\u001b[0m\u001b[0m\n\u001b[1;32m    553\u001b[0m \u001b[0;34m\u001b[0m\u001b[0m\n",
            "\u001b[0;32m/usr/lib/python3.6/threading.py\u001b[0m in \u001b[0;36mwait\u001b[0;34m(self, timeout)\u001b[0m\n\u001b[1;32m    293\u001b[0m         \u001b[0;32mtry\u001b[0m\u001b[0;34m:\u001b[0m    \u001b[0;31m# restore state no matter what (e.g., KeyboardInterrupt)\u001b[0m\u001b[0;34m\u001b[0m\u001b[0;34m\u001b[0m\u001b[0m\n\u001b[1;32m    294\u001b[0m             \u001b[0;32mif\u001b[0m \u001b[0mtimeout\u001b[0m \u001b[0;32mis\u001b[0m \u001b[0;32mNone\u001b[0m\u001b[0;34m:\u001b[0m\u001b[0;34m\u001b[0m\u001b[0;34m\u001b[0m\u001b[0m\n\u001b[0;32m--> 295\u001b[0;31m                 \u001b[0mwaiter\u001b[0m\u001b[0;34m.\u001b[0m\u001b[0macquire\u001b[0m\u001b[0;34m(\u001b[0m\u001b[0;34m)\u001b[0m\u001b[0;34m\u001b[0m\u001b[0;34m\u001b[0m\u001b[0m\n\u001b[0m\u001b[1;32m    296\u001b[0m                 \u001b[0mgotit\u001b[0m \u001b[0;34m=\u001b[0m \u001b[0;32mTrue\u001b[0m\u001b[0;34m\u001b[0m\u001b[0;34m\u001b[0m\u001b[0m\n\u001b[1;32m    297\u001b[0m             \u001b[0;32melse\u001b[0m\u001b[0;34m:\u001b[0m\u001b[0;34m\u001b[0m\u001b[0;34m\u001b[0m\u001b[0m\n",
            "\u001b[0;31mKeyboardInterrupt\u001b[0m: "
          ]
        }
      ]
    },
    {
      "cell_type": "code",
      "metadata": {
        "id": "Y-fnSME-JSHV",
        "colab_type": "code",
        "colab": {}
      },
      "source": [
        "# Removing all jpg images from folder\n",
        "\n",
        "# import os\n",
        "# for file in os.listdir(os.getcwd()): \n",
        "#   if file.endswith('.jpg'):\n",
        "#     os.remove(file) \n"
      ],
      "execution_count": 0,
      "outputs": []
    },
    {
      "cell_type": "code",
      "metadata": {
        "id": "HIVGvMKEKOdV",
        "colab_type": "code",
        "colab": {}
      },
      "source": [
        "os.getcwd()"
      ],
      "execution_count": 0,
      "outputs": []
    },
    {
      "cell_type": "code",
      "metadata": {
        "id": "Lu-X830tku_r",
        "colab_type": "code",
        "colab": {}
      },
      "source": [
        "# predict\n",
        "from tensorflow.keras.models import load_model\n",
        "import pickle\n",
        "import numpy as np\n",
        "import pandas as pd\n",
        "\n",
        "pre = PreProcessor()\n",
        "\n",
        "def predictions(data, model):\n",
        "    new_data = [] \n",
        "    for idx in range(1, len(data.index)-1):\n",
        "        row_now = data.iloc[[idx]].reset_index()\n",
        "        row_prev = data.iloc[[idx - 1]].reset_index()\n",
        "        row_next = data.iloc[[idx + 1]].reset_index()\n",
        "        \n",
        "        time_now = row_now[1].values[0]\n",
        "        time_prev = row_prev[1].values[0]\n",
        "        time_next = row_next[1].values[0]\n",
        "        \n",
        "        if time_now - time_prev > 0 and 0.0000001 < time_now - time_prev < 0.58: # 0.578111 is highest diff i have seen\n",
        "            row1 = row_prev\n",
        "            row2 = row_now\n",
        "            \n",
        "        elif time_next - time_now > 0 and 0.0000001 < time_next - time_now < 0.58:\n",
        "            row1 = row_now\n",
        "            row2 = row_next\n",
        "            \n",
        "        x1, y1 = pre.preprocess_image_from_path(row1[0].values[0],row1[2].values[0]) \n",
        "        x2, y2 = pre.preprocess_image_from_path(row2[0].values[0],row2[2].values[0])\n",
        "       \n",
        "        img_diff = pre.optical_flow(x1, x2)\n",
        "        img_diff = img_diff.reshape(1, img_diff.shape[0], img_diff.shape[1], img_diff.shape[2])\n",
        "        y = np.mean([y1, y2])\n",
        "        \n",
        "        prediction = model.predict(img_diff)\n",
        "        error = abs(prediction-y2)\n",
        "        new_data.append([prediction[0][0], y2, error[0][0], time_now, time_prev])\n",
        "    return pd.DataFrame(new_data)\n",
        "\n",
        "\n",
        "def get_pred_mse(preds):\n",
        "    df = pd.read_pickle(preds)\n",
        "    avg = np.mean(df[2].values**2)\n",
        "    return avg\n",
        "\n",
        "\n",
        "\n"
      ],
      "execution_count": 0,
      "outputs": []
    },
    {
      "cell_type": "code",
      "metadata": {
        "id": "YTxpOcBsw9uq",
        "colab_type": "code",
        "colab": {
          "base_uri": "https://localhost:8080/",
          "height": 1000
        },
        "outputId": "91ae43d0-1514-40ec-ae57-80f1bd472d6d"
      },
      "source": [
        "print(os.getcwd())\n",
        "model = speed_model()\n",
        "\n",
        "model.load_weights(\"./drive/My Drive/speed_predict/model-weights.h5\")\n",
        "\n",
        "df = pd.read_csv(\"./drive/My Drive/speed_predict/processed.csv\", header = None)\n",
        "pre = PreProcessor()\n",
        "train, test = pre.shuffle_frame_pairs(df)\n",
        "test_generator = training.generate_validation_data(test)\n",
        "val_score = model.evaluate_generator(test_generator, steps=len(test))\n",
        "data = predictions(test, model)\n",
        "data.to_pickle(\"./predictions.pkl\")\n",
        "\n",
        "print(get_pred_mse(\"predictions.pkl\"))"
      ],
      "execution_count": 43,
      "outputs": [
        {
          "output_type": "stream",
          "text": [
            "/content\n",
            "Model: \"model_11\"\n",
            "_________________________________________________________________\n",
            "Layer (type)                 Output Shape              Param #   \n",
            "=================================================================\n",
            "input_12 (InputLayer)        [(None, 66, 220, 3)]      0         \n",
            "_________________________________________________________________\n",
            "lambda_11 (Lambda)           (None, 66, 220, 3)        0         \n",
            "_________________________________________________________________\n",
            "conv2d_55 (Conv2D)           (None, 62, 216, 24)       1824      \n",
            "_________________________________________________________________\n",
            "activation_88 (Activation)   (None, 62, 216, 24)       0         \n",
            "_________________________________________________________________\n",
            "conv2d_56 (Conv2D)           (None, 29, 106, 36)       21636     \n",
            "_________________________________________________________________\n",
            "activation_89 (Activation)   (None, 29, 106, 36)       0         \n",
            "_________________________________________________________________\n",
            "dropout_11 (Dropout)         (None, 29, 106, 36)       0         \n",
            "_________________________________________________________________\n",
            "conv2d_57 (Conv2D)           (None, 13, 51, 48)        43248     \n",
            "_________________________________________________________________\n",
            "activation_90 (Activation)   (None, 13, 51, 48)        0         \n",
            "_________________________________________________________________\n",
            "conv2d_58 (Conv2D)           (None, 11, 49, 64)        27712     \n",
            "_________________________________________________________________\n",
            "activation_91 (Activation)   (None, 11, 49, 64)        0         \n",
            "_________________________________________________________________\n",
            "conv2d_59 (Conv2D)           (None, 9, 47, 64)         36928     \n",
            "_________________________________________________________________\n",
            "flatten_11 (Flatten)         (None, 27072)             0         \n",
            "_________________________________________________________________\n",
            "activation_92 (Activation)   (None, 27072)             0         \n",
            "_________________________________________________________________\n",
            "dense_44 (Dense)             (None, 100)               2707300   \n",
            "_________________________________________________________________\n",
            "activation_93 (Activation)   (None, 100)               0         \n",
            "_________________________________________________________________\n",
            "dense_45 (Dense)             (None, 50)                5050      \n",
            "_________________________________________________________________\n",
            "activation_94 (Activation)   (None, 50)                0         \n",
            "_________________________________________________________________\n",
            "dense_46 (Dense)             (None, 10)                510       \n",
            "_________________________________________________________________\n",
            "activation_95 (Activation)   (None, 10)                0         \n",
            "_________________________________________________________________\n",
            "dense_47 (Dense)             (None, 1)                 11        \n",
            "=================================================================\n",
            "Total params: 2,844,219\n",
            "Trainable params: 2,844,219\n",
            "Non-trainable params: 0\n",
            "_________________________________________________________________\n",
            "None\n"
          ],
          "name": "stdout"
        },
        {
          "output_type": "error",
          "ename": "FileNotFoundError",
          "evalue": "ignored",
          "traceback": [
            "\u001b[0;31m---------------------------------------------------------------------------\u001b[0m",
            "\u001b[0;31mFileNotFoundError\u001b[0m                         Traceback (most recent call last)",
            "\u001b[0;32m<ipython-input-43-93968f85eb78>\u001b[0m in \u001b[0;36m<module>\u001b[0;34m()\u001b[0m\n\u001b[1;32m      4\u001b[0m \u001b[0mmodel\u001b[0m\u001b[0;34m.\u001b[0m\u001b[0mload_weights\u001b[0m\u001b[0;34m(\u001b[0m\u001b[0;34m\"./drive/My Drive/speed_predict/model-weights.h5\"\u001b[0m\u001b[0;34m)\u001b[0m\u001b[0;34m\u001b[0m\u001b[0;34m\u001b[0m\u001b[0m\n\u001b[1;32m      5\u001b[0m \u001b[0;34m\u001b[0m\u001b[0m\n\u001b[0;32m----> 6\u001b[0;31m \u001b[0mdf\u001b[0m \u001b[0;34m=\u001b[0m \u001b[0mpd\u001b[0m\u001b[0;34m.\u001b[0m\u001b[0mread_csv\u001b[0m\u001b[0;34m(\u001b[0m\u001b[0;34m\"./drive/My Drive/speed_predict/processed.csv\"\u001b[0m\u001b[0;34m,\u001b[0m \u001b[0mheader\u001b[0m \u001b[0;34m=\u001b[0m \u001b[0;32mNone\u001b[0m\u001b[0;34m)\u001b[0m\u001b[0;34m\u001b[0m\u001b[0;34m\u001b[0m\u001b[0m\n\u001b[0m\u001b[1;32m      7\u001b[0m \u001b[0mpre\u001b[0m \u001b[0;34m=\u001b[0m \u001b[0mPreProcessor\u001b[0m\u001b[0;34m(\u001b[0m\u001b[0;34m)\u001b[0m\u001b[0;34m\u001b[0m\u001b[0;34m\u001b[0m\u001b[0m\n\u001b[1;32m      8\u001b[0m \u001b[0mtrain\u001b[0m\u001b[0;34m,\u001b[0m \u001b[0mtest\u001b[0m \u001b[0;34m=\u001b[0m \u001b[0mpre\u001b[0m\u001b[0;34m.\u001b[0m\u001b[0mshuffle_frame_pairs\u001b[0m\u001b[0;34m(\u001b[0m\u001b[0mdf\u001b[0m\u001b[0;34m)\u001b[0m\u001b[0;34m\u001b[0m\u001b[0;34m\u001b[0m\u001b[0m\n",
            "\u001b[0;32m/usr/local/lib/python3.6/dist-packages/pandas/io/parsers.py\u001b[0m in \u001b[0;36mparser_f\u001b[0;34m(filepath_or_buffer, sep, delimiter, header, names, index_col, usecols, squeeze, prefix, mangle_dupe_cols, dtype, engine, converters, true_values, false_values, skipinitialspace, skiprows, skipfooter, nrows, na_values, keep_default_na, na_filter, verbose, skip_blank_lines, parse_dates, infer_datetime_format, keep_date_col, date_parser, dayfirst, cache_dates, iterator, chunksize, compression, thousands, decimal, lineterminator, quotechar, quoting, doublequote, escapechar, comment, encoding, dialect, error_bad_lines, warn_bad_lines, delim_whitespace, low_memory, memory_map, float_precision)\u001b[0m\n\u001b[1;32m    683\u001b[0m         )\n\u001b[1;32m    684\u001b[0m \u001b[0;34m\u001b[0m\u001b[0m\n\u001b[0;32m--> 685\u001b[0;31m         \u001b[0;32mreturn\u001b[0m \u001b[0m_read\u001b[0m\u001b[0;34m(\u001b[0m\u001b[0mfilepath_or_buffer\u001b[0m\u001b[0;34m,\u001b[0m \u001b[0mkwds\u001b[0m\u001b[0;34m)\u001b[0m\u001b[0;34m\u001b[0m\u001b[0;34m\u001b[0m\u001b[0m\n\u001b[0m\u001b[1;32m    686\u001b[0m \u001b[0;34m\u001b[0m\u001b[0m\n\u001b[1;32m    687\u001b[0m     \u001b[0mparser_f\u001b[0m\u001b[0;34m.\u001b[0m\u001b[0m__name__\u001b[0m \u001b[0;34m=\u001b[0m \u001b[0mname\u001b[0m\u001b[0;34m\u001b[0m\u001b[0;34m\u001b[0m\u001b[0m\n",
            "\u001b[0;32m/usr/local/lib/python3.6/dist-packages/pandas/io/parsers.py\u001b[0m in \u001b[0;36m_read\u001b[0;34m(filepath_or_buffer, kwds)\u001b[0m\n\u001b[1;32m    455\u001b[0m \u001b[0;34m\u001b[0m\u001b[0m\n\u001b[1;32m    456\u001b[0m     \u001b[0;31m# Create the parser.\u001b[0m\u001b[0;34m\u001b[0m\u001b[0;34m\u001b[0m\u001b[0;34m\u001b[0m\u001b[0m\n\u001b[0;32m--> 457\u001b[0;31m     \u001b[0mparser\u001b[0m \u001b[0;34m=\u001b[0m \u001b[0mTextFileReader\u001b[0m\u001b[0;34m(\u001b[0m\u001b[0mfp_or_buf\u001b[0m\u001b[0;34m,\u001b[0m \u001b[0;34m**\u001b[0m\u001b[0mkwds\u001b[0m\u001b[0;34m)\u001b[0m\u001b[0;34m\u001b[0m\u001b[0;34m\u001b[0m\u001b[0m\n\u001b[0m\u001b[1;32m    458\u001b[0m \u001b[0;34m\u001b[0m\u001b[0m\n\u001b[1;32m    459\u001b[0m     \u001b[0;32mif\u001b[0m \u001b[0mchunksize\u001b[0m \u001b[0;32mor\u001b[0m \u001b[0miterator\u001b[0m\u001b[0;34m:\u001b[0m\u001b[0;34m\u001b[0m\u001b[0;34m\u001b[0m\u001b[0m\n",
            "\u001b[0;32m/usr/local/lib/python3.6/dist-packages/pandas/io/parsers.py\u001b[0m in \u001b[0;36m__init__\u001b[0;34m(self, f, engine, **kwds)\u001b[0m\n\u001b[1;32m    893\u001b[0m             \u001b[0mself\u001b[0m\u001b[0;34m.\u001b[0m\u001b[0moptions\u001b[0m\u001b[0;34m[\u001b[0m\u001b[0;34m\"has_index_names\"\u001b[0m\u001b[0;34m]\u001b[0m \u001b[0;34m=\u001b[0m \u001b[0mkwds\u001b[0m\u001b[0;34m[\u001b[0m\u001b[0;34m\"has_index_names\"\u001b[0m\u001b[0;34m]\u001b[0m\u001b[0;34m\u001b[0m\u001b[0;34m\u001b[0m\u001b[0m\n\u001b[1;32m    894\u001b[0m \u001b[0;34m\u001b[0m\u001b[0m\n\u001b[0;32m--> 895\u001b[0;31m         \u001b[0mself\u001b[0m\u001b[0;34m.\u001b[0m\u001b[0m_make_engine\u001b[0m\u001b[0;34m(\u001b[0m\u001b[0mself\u001b[0m\u001b[0;34m.\u001b[0m\u001b[0mengine\u001b[0m\u001b[0;34m)\u001b[0m\u001b[0;34m\u001b[0m\u001b[0;34m\u001b[0m\u001b[0m\n\u001b[0m\u001b[1;32m    896\u001b[0m \u001b[0;34m\u001b[0m\u001b[0m\n\u001b[1;32m    897\u001b[0m     \u001b[0;32mdef\u001b[0m \u001b[0mclose\u001b[0m\u001b[0;34m(\u001b[0m\u001b[0mself\u001b[0m\u001b[0;34m)\u001b[0m\u001b[0;34m:\u001b[0m\u001b[0;34m\u001b[0m\u001b[0;34m\u001b[0m\u001b[0m\n",
            "\u001b[0;32m/usr/local/lib/python3.6/dist-packages/pandas/io/parsers.py\u001b[0m in \u001b[0;36m_make_engine\u001b[0;34m(self, engine)\u001b[0m\n\u001b[1;32m   1133\u001b[0m     \u001b[0;32mdef\u001b[0m \u001b[0m_make_engine\u001b[0m\u001b[0;34m(\u001b[0m\u001b[0mself\u001b[0m\u001b[0;34m,\u001b[0m \u001b[0mengine\u001b[0m\u001b[0;34m=\u001b[0m\u001b[0;34m\"c\"\u001b[0m\u001b[0;34m)\u001b[0m\u001b[0;34m:\u001b[0m\u001b[0;34m\u001b[0m\u001b[0;34m\u001b[0m\u001b[0m\n\u001b[1;32m   1134\u001b[0m         \u001b[0;32mif\u001b[0m \u001b[0mengine\u001b[0m \u001b[0;34m==\u001b[0m \u001b[0;34m\"c\"\u001b[0m\u001b[0;34m:\u001b[0m\u001b[0;34m\u001b[0m\u001b[0;34m\u001b[0m\u001b[0m\n\u001b[0;32m-> 1135\u001b[0;31m             \u001b[0mself\u001b[0m\u001b[0;34m.\u001b[0m\u001b[0m_engine\u001b[0m \u001b[0;34m=\u001b[0m \u001b[0mCParserWrapper\u001b[0m\u001b[0;34m(\u001b[0m\u001b[0mself\u001b[0m\u001b[0;34m.\u001b[0m\u001b[0mf\u001b[0m\u001b[0;34m,\u001b[0m \u001b[0;34m**\u001b[0m\u001b[0mself\u001b[0m\u001b[0;34m.\u001b[0m\u001b[0moptions\u001b[0m\u001b[0;34m)\u001b[0m\u001b[0;34m\u001b[0m\u001b[0;34m\u001b[0m\u001b[0m\n\u001b[0m\u001b[1;32m   1136\u001b[0m         \u001b[0;32melse\u001b[0m\u001b[0;34m:\u001b[0m\u001b[0;34m\u001b[0m\u001b[0;34m\u001b[0m\u001b[0m\n\u001b[1;32m   1137\u001b[0m             \u001b[0;32mif\u001b[0m \u001b[0mengine\u001b[0m \u001b[0;34m==\u001b[0m \u001b[0;34m\"python\"\u001b[0m\u001b[0;34m:\u001b[0m\u001b[0;34m\u001b[0m\u001b[0;34m\u001b[0m\u001b[0m\n",
            "\u001b[0;32m/usr/local/lib/python3.6/dist-packages/pandas/io/parsers.py\u001b[0m in \u001b[0;36m__init__\u001b[0;34m(self, src, **kwds)\u001b[0m\n\u001b[1;32m   1915\u001b[0m         \u001b[0mkwds\u001b[0m\u001b[0;34m[\u001b[0m\u001b[0;34m\"usecols\"\u001b[0m\u001b[0;34m]\u001b[0m \u001b[0;34m=\u001b[0m \u001b[0mself\u001b[0m\u001b[0;34m.\u001b[0m\u001b[0musecols\u001b[0m\u001b[0;34m\u001b[0m\u001b[0;34m\u001b[0m\u001b[0m\n\u001b[1;32m   1916\u001b[0m \u001b[0;34m\u001b[0m\u001b[0m\n\u001b[0;32m-> 1917\u001b[0;31m         \u001b[0mself\u001b[0m\u001b[0;34m.\u001b[0m\u001b[0m_reader\u001b[0m \u001b[0;34m=\u001b[0m \u001b[0mparsers\u001b[0m\u001b[0;34m.\u001b[0m\u001b[0mTextReader\u001b[0m\u001b[0;34m(\u001b[0m\u001b[0msrc\u001b[0m\u001b[0;34m,\u001b[0m \u001b[0;34m**\u001b[0m\u001b[0mkwds\u001b[0m\u001b[0;34m)\u001b[0m\u001b[0;34m\u001b[0m\u001b[0;34m\u001b[0m\u001b[0m\n\u001b[0m\u001b[1;32m   1918\u001b[0m         \u001b[0mself\u001b[0m\u001b[0;34m.\u001b[0m\u001b[0munnamed_cols\u001b[0m \u001b[0;34m=\u001b[0m \u001b[0mself\u001b[0m\u001b[0;34m.\u001b[0m\u001b[0m_reader\u001b[0m\u001b[0;34m.\u001b[0m\u001b[0munnamed_cols\u001b[0m\u001b[0;34m\u001b[0m\u001b[0;34m\u001b[0m\u001b[0m\n\u001b[1;32m   1919\u001b[0m \u001b[0;34m\u001b[0m\u001b[0m\n",
            "\u001b[0;32mpandas/_libs/parsers.pyx\u001b[0m in \u001b[0;36mpandas._libs.parsers.TextReader.__cinit__\u001b[0;34m()\u001b[0m\n",
            "\u001b[0;32mpandas/_libs/parsers.pyx\u001b[0m in \u001b[0;36mpandas._libs.parsers.TextReader._setup_parser_source\u001b[0;34m()\u001b[0m\n",
            "\u001b[0;31mFileNotFoundError\u001b[0m: [Errno 2] File b'./drive/My Drive/speed_predict/processed.csv' does not exist: b'./drive/My Drive/speed_predict/processed.csv'"
          ]
        }
      ]
    }
  ]
}