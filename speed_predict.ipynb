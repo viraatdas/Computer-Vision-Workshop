{
  "nbformat": 4,
  "nbformat_minor": 0,
  "metadata": {
    "colab": {
      "name": "speed_predict.ipynb",
      "provenance": [],
      "include_colab_link": true
    },
    "kernelspec": {
      "name": "python3",
      "display_name": "Python 3"
    }
  },
  "cells": [
    {
      "cell_type": "markdown",
      "metadata": {
        "id": "view-in-github",
        "colab_type": "text"
      },
      "source": [
        "<a href=\"https://colab.research.google.com/github/viraatdas/Purdue_CompVis_Workshop/blob/12_end_predict/speed_predict.ipynb\" target=\"_parent\"><img src=\"https://colab.research.google.com/assets/colab-badge.svg\" alt=\"Open In Colab\"/></a>"
      ]
    },
    {
      "cell_type": "code",
      "metadata": {
        "id": "UR3KB9wg6hD2",
        "colab_type": "code",
        "outputId": "8b32d8b3-f7ba-4411-c962-7ebfec223e88",
        "colab": {
          "base_uri": "https://localhost:8080/",
          "height": 34
        }
      },
      "source": [
        "print(\"wus good\")"
      ],
      "execution_count": 0,
      "outputs": [
        {
          "output_type": "stream",
          "text": [
            "wus good\n"
          ],
          "name": "stdout"
        }
      ]
    },
    {
      "cell_type": "markdown",
      "metadata": {
        "id": "KLBdc5Nk7Q5h",
        "colab_type": "text"
      },
      "source": [
        "Import video files"
      ]
    },
    {
      "cell_type": "code",
      "metadata": {
        "id": "sp6CXi_M7X_o",
        "colab_type": "code",
        "outputId": "6ad15218-7c90-4fec-a317-c546de2d576b",
        "colab": {
          "base_uri": "https://localhost:8080/",
          "height": 122
        }
      },
      "source": [
        "from google.colab import drive\n",
        "drive.mount('/content/drive/')"
      ],
      "execution_count": 0,
      "outputs": [
        {
          "output_type": "stream",
          "text": [
            "Go to this URL in a browser: https://accounts.google.com/o/oauth2/auth?client_id=947318989803-6bn6qk8qdgf4n4g3pfee6491hc0brc4i.apps.googleusercontent.com&redirect_uri=urn%3Aietf%3Awg%3Aoauth%3A2.0%3Aoob&scope=email%20https%3A%2F%2Fwww.googleapis.com%2Fauth%2Fdocs.test%20https%3A%2F%2Fwww.googleapis.com%2Fauth%2Fdrive%20https%3A%2F%2Fwww.googleapis.com%2Fauth%2Fdrive.photos.readonly%20https%3A%2F%2Fwww.googleapis.com%2Fauth%2Fpeopleapi.readonly&response_type=code\n",
            "\n",
            "Enter your authorization code:\n",
            "··········\n",
            "Mounted at /content/drive/\n"
          ],
          "name": "stdout"
        }
      ]
    },
    {
      "cell_type": "markdown",
      "metadata": {
        "id": "J0g_bHtb9SkX",
        "colab_type": "text"
      },
      "source": [
        "Import libraries"
      ]
    },
    {
      "cell_type": "code",
      "metadata": {
        "id": "oEZ1WRGL9VBz",
        "colab_type": "code",
        "colab": {}
      },
      "source": [
        "import os\n",
        "import csv\n",
        "import cv2\n",
        "import numpy as np \n",
        "import pandas as pd \n",
        "import matplotlib.pyplot as plt\n",
        "from google.colab.patches import cv2_imshow"
      ],
      "execution_count": 0,
      "outputs": []
    },
    {
      "cell_type": "markdown",
      "metadata": {
        "id": "UHAYyhZ0I1x8",
        "colab_type": "text"
      },
      "source": [
        "Organize file paths"
      ]
    },
    {
      "cell_type": "code",
      "metadata": {
        "id": "fvpxqGIeI4K4",
        "colab_type": "code",
        "colab": {}
      },
      "source": [
        "train_video = \"./drive/My Drive/speed_predict/train.mp4\"\n",
        "labels = \"./drive/My Drive/speed_predict/train.txt\"\n",
        "output_path = \"./drive/My Drive/speed_predict/data_preprocessed\"\n",
        "FRAME_RATE = 20\n",
        "\n",
        "if not os.path.exists(output_path):\n",
        "  os.mkdir(output_path)\n",
        "  print(f\"Directory {output_path} created\")"
      ],
      "execution_count": 0,
      "outputs": []
    },
    {
      "cell_type": "markdown",
      "metadata": {
        "id": "T3m-C0w3I4X2",
        "colab_type": "text"
      },
      "source": [
        "PreProcessor Class"
      ]
    },
    {
      "cell_type": "code",
      "metadata": {
        "id": "FSd_lkW4I8K5",
        "colab_type": "code",
        "colab": {}
      },
      "source": [
        "class PreProcessor():\n",
        "  def __str__(self):\n",
        "    # indicate class description\n",
        "    return \"Pre-processor class\"\n",
        "  def grayscale(self, frame):\n",
        "    # converts frame to gray scale\n",
        "    return cv2.cvtColor(frame, cv2.COLOR_RGB2GRAY)\n",
        "  \n",
        "  def plot_training_speed(self, data):\n",
        "    # plot labels\n",
        "    data = np.loadtxt(data)\n",
        "    plt.plot(data)\n",
        "    plt.show()\n",
        "  def generate_images(self, file_path, label_path, gray=False):\n",
        "    # Takes the video file and generates images for each\n",
        "    # of it's frames. The time for each frame and the image path\n",
        "    # for the corresponding frame is stored in a csv\n",
        "\n",
        "    # Load the speeds\n",
        "    speeds = np.loadtxt(label_path)\n",
        "\n",
        "    # Video file\n",
        "    video_capture = cv2.VideoCapture(file_path)\n",
        "\n",
        "    # Check if number of labels is the same as number of frame\n",
        "    if len(speeds) == video_capture.get(cv2.CAP_PROP_FRAME_COUNT):\n",
        "      print(\"Labels are equal to number of frames\")\n",
        "    else:\n",
        "      print(\"Check if labels are equal to number of frames\")\n",
        "      return\n",
        "    \n",
        "    with open(\"processed.csv\", \"w+\") as file:\n",
        "      writer = csv.writer(file)\n",
        "      time_between_frames = 1 / FRAME_RATE\n",
        "      time_elapsed = 0\n",
        "\n",
        "      for idx, i in enumerate(speeds):\n",
        "        ret, frame = video_capture.read()\n",
        "        time_elapsed += time_between_frames\n",
        "        if gray == True:\n",
        "          frame = self.grayscale(frame)\n",
        "        if ret:\n",
        "          # cv2_imshow(frame)\n",
        "          image_path = f\"{output_path}/{str(round(time_elapsed, 4))}.jpg\"\n",
        "          cv2.imwrite(image_path, frame)\n",
        "          writer.writerow([image_path, time_elapsed, speeds[idx]])\n",
        "        if cv2.waitKey(1) & 0xFF == ord('q'):\n",
        "          break\n",
        "      video_capture.release()\n",
        "      cv2.destroyAllWindows()\n"
      ],
      "execution_count": 0,
      "outputs": []
    },
    {
      "cell_type": "code",
      "metadata": {
        "id": "Vxos3XfSI95O",
        "colab_type": "code",
        "outputId": "ceefd48f-3cec-497c-a26b-525595e29bc3",
        "colab": {
          "base_uri": "https://localhost:8080/",
          "height": 282
        }
      },
      "source": [
        "preprocessor = PreProcessor()\n",
        "preprocessor.plot_training_speed(labels)\n",
        "preprocessor.generate_images(train_video, labels)"
      ],
      "execution_count": 0,
      "outputs": [
        {
          "output_type": "display_data",
          "data": {
            "image/png": "[encoded data removed]",
            "text/plain": [
              "<Figure size 432x288 with 1 Axes>"
            ]
          },
          "metadata": {
            "tags": []
          }
        },
        {
          "output_type": "stream",
          "text": [
            "Labels are equal to number of frames\n"
          ],
          "name": "stdout"
        }
      ]
    }
  ]
}