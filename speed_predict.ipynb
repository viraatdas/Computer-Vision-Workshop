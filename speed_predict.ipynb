{
  "nbformat": 4,
  "nbformat_minor": 0,
  "metadata": {
    "colab": {
      "name": "speed_predict.ipynb",
      "provenance": [],
      "include_colab_link": true
    },
    "kernelspec": {
      "name": "python3",
      "display_name": "Python 3"
    }
  },
  "cells": [
    {
      "cell_type": "markdown",
      "metadata": {
        "id": "view-in-github",
        "colab_type": "text"
      },
      "source": [
        "<a href=\"https://colab.research.google.com/github/viraatdas/Purdue_CompVis_Workshop/blob/5_preprocessor(3)-shuffle-image/speed_predict.ipynb\" target=\"_parent\"><img src=\"https://colab.research.google.com/assets/colab-badge.svg\" alt=\"Open In Colab\"/></a>"
      ]
    },
    {
      "cell_type": "code",
      "metadata": {
        "id": "UR3KB9wg6hD2",
        "colab_type": "code",
        "outputId": "8b32d8b3-f7ba-4411-c962-7ebfec223e88",
        "colab": {
          "base_uri": "https://localhost:8080/",
          "height": 34
        }
      },
      "source": [
        "print(\"wus good\")"
      ],
      "execution_count": 0,
      "outputs": [
        {
          "output_type": "stream",
          "text": [
            "wus good\n"
          ],
          "name": "stdout"
        }
      ]
    },
    {
      "cell_type": "markdown",
      "metadata": {
        "id": "KLBdc5Nk7Q5h",
        "colab_type": "text"
      },
      "source": [
        "Import video files"
      ]
    },
    {
      "cell_type": "code",
      "metadata": {
        "id": "sp6CXi_M7X_o",
        "colab_type": "code",
        "outputId": "ce91d232-936d-4bbc-e723-02220aff7a33",
        "colab": {
          "base_uri": "https://localhost:8080/",
          "height": 54
        }
      },
      "source": [
        "from google.colab import drive\n",
        "drive.mount('/content/drive/')"
      ],
      "execution_count": 0,
      "outputs": [
        {
          "output_type": "stream",
          "text": [
            "Drive already mounted at /content/drive/; to attempt to forcibly remount, call drive.mount(\"/content/drive/\", force_remount=True).\n"
          ],
          "name": "stdout"
        }
      ]
    },
    {
      "cell_type": "markdown",
      "metadata": {
        "id": "J0g_bHtb9SkX",
        "colab_type": "text"
      },
      "source": [
        "Import libraries"
      ]
    },
    {
      "cell_type": "code",
      "metadata": {
        "id": "oEZ1WRGL9VBz",
        "colab_type": "code",
        "colab": {}
      },
      "source": [
        "import os\n",
        "import csv\n",
        "import cv2\n",
        "import numpy as np\n",
        "import pandas as pd\n",
        "import matplotlib.pyplot as plt"
      ],
      "execution_count": 0,
      "outputs": []
    },
    {
      "cell_type": "markdown",
      "metadata": {
        "id": "oUm6cym4-cKH",
        "colab_type": "text"
      },
      "source": [
        "Organie file paths"
      ]
    },
    {
      "cell_type": "code",
      "metadata": {
        "id": "X4GeA4GH-ery",
        "colab_type": "code",
        "colab": {}
      },
      "source": [
        "train_video = \"./drive/My Drive/speed_predict/train.mp4\"\n",
        "labels = \"./drive/My Drive/speed_predict/train.txt\"\n",
        "output = \"./drive/My Drive/speed_predict/data_preprocessed\"\n",
        "\n",
        "if not os.path.exists(output):\n",
        "  os.mkdir(output)\n",
        "  print(f\"Directory {output} created\")"
      ],
      "execution_count": 0,
      "outputs": []
    },
    {
      "cell_type": "markdown",
      "metadata": {
        "id": "0d1f5XQaAycS",
        "colab_type": "text"
      },
      "source": [
        "Preprocessor class"
      ]
    },
    {
      "cell_type": "code",
      "metadata": {
        "id": "0F2EEIoiCOKZ",
        "colab_type": "code",
        "colab": {}
      },
      "source": [
        "# Input for the Optical Flow Farneback Method\n",
        "flow_mat = None\n",
        "image_scale = 0.5\n",
        "nb_images = 1\n",
        "win_size = 15\n",
        "nb_iterations = 2\n",
        "deg_expansion = 5\n",
        "STD = 1.3"
      ],
      "execution_count": 0,
      "outputs": []
    },
    {
      "cell_type": "code",
      "metadata": {
        "id": "7C3RsQ6VCpLR",
        "colab_type": "code",
        "colab": {}
      },
      "source": [
        "class PreProcessor:\n",
        "  def __str__(self):\n",
        "    # Indicate class description\n",
        "    return \"Pre-processor class\"\n",
        "  \n",
        "  def grayscale(self, frame):\n",
        "    # Converts frame to gray scale\n",
        "    return cv2.cvtColor(frame, cv2.COLOR_RGB2GRAY)\n",
        "  \n",
        "  def plot_training_speed(self, data):\n",
        "    # plot labels\n",
        "    data = np.loadtxt(data)\n",
        "    plt.plot(data)\n",
        "    plt.show()\n",
        "  def generate_images(self, file_path, label_path, gray=False):\n",
        "    # Takes the video file and generates images for each \n",
        "    # of it's frames. The time for each frame and the image path\n",
        "    # for the corresponding frame is stored in a csv\n",
        "\n",
        "    # Load the labels\n",
        "    label = np.loadtxt(label_path)\n",
        "\n",
        "    # Video file\n",
        "    video_capture = cv2.VideoCapture(file_path)\n",
        "\n",
        "    # Check if number of label is same as number of frames\n",
        "    if len(labels) == video_capture.get(cv2.CAP_PROP_FRAME_COUNT):\n",
        "      print(\"Labels are equal to number of frames\")\n",
        "    else:\n",
        "      print(\"Chekc if labels are equal to number of frames\")\n",
        "      return\n",
        "\n",
        "    with open(\"processed.csv\", \"w\") as file:\n",
        "      writer = csv.writer(file)\n",
        "      time_between_frames = 1 / FRAME_RATE\n",
        "      time_elapsed = 0\n",
        "\n",
        "      for idx, i in enumerate(labels):\n",
        "        ret, frame = video_capture.read()\n",
        "        time_elapsed += time_between_frames\n",
        "        if gray:\n",
        "          frame = self.grayscale(frame)\n",
        "        if ret:\n",
        "          cv2.imshow(\"frame\", frame)\n",
        "          image_path = f\"{output_path}_{str(time_elapsed)}.jpg\"\n",
        "          cv2.imwrite(image_path, frame)\n",
        "          writer.writerow([image_path, time_elapsed, labels[idx]])\n",
        "        if cv2.waitKey(1) & 0xFF == ord('q'):\n",
        "          break\n",
        "      video_capture.release()\n",
        "      cv2.destroyAllWindows()\n",
        "\n",
        "  def shuffle_frame_pairs(self, dataframe, val_split=1):\n",
        "    # Shuffles pairs of frames from the video \n",
        "    # We need pair of frames for the optical flow\n",
        "    # returns training and validation dataframe\n",
        "\n",
        "    training_data = pd.DataFrame()\n",
        "    validation_data = pd.DataFrame()\n",
        "    df_len = dataframe.shape[0]\n",
        "\n",
        "    for i in range(df_len - 1):\n",
        "      idx1 = np.random.randint(df_len - 1)\n",
        "      idx2 = idx1 + 1\n",
        "      row1 = dataframe.iloc[[idx1]].reset_index()\n",
        "      row2 = dataframe.iloc[[idx2]].reset_index()\n",
        "      randInt = np.random.randint(9)\n",
        "\n",
        "      if 0 <= randInt <= val_split:\n",
        "        valid_frame = [validation_data, row1, row2]\n",
        "        validation_data = pd.concat(\n",
        "            valid_frames, axis=0, join='outer', ignore_index=False)\n",
        "        if randInt >= val_split + 1:\n",
        "          train_frame = [training_data, row1, row2]\n",
        "          training_data = pd.concat(\n",
        "              train_frames, axis=0, join='outer', ignore_index=False)\n",
        "    return training_data, validation_data\n",
        "\n"
      ],
      "execution_count": 0,
      "outputs": []
    }
  ]
}